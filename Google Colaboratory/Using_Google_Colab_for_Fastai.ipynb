{
 "cells": [
  {
   "cell_type": "markdown",
   "metadata": {
    "colab_type": "text",
    "id": "PjOMeCoHHlzQ"
   },
   "source": [
    "# Using Google Colab for Fast.ai\n",
    "\n",
    "Welcome! Here is my one-stop-shop for getting all the Fast.ai lessons to work on Google Colab. I'll be updating this as I work through new lessons. Let me know if you have suggestions or improvements at @corythesaurus (DM me on Twitter).\n",
    "\n",
    "My general workflow is to open each Fast.ai notebook and make a copy of it to save in my Drive, so I can add in my own cells as needed (and save them for later!). You can do that from within Colab: *File > Open Notebook... > click on \"Github\" tab > search for \"fastai\"*. All the notebooks should be there. Once you open a notebook, you can make a copy of it: *File > Save a copy in Drive...*. \n",
    "\n",
    "Finally, make sure you've enabled the GPU! *Edit > Notebook settings > set \"Hardware Accelerator\" to GPU.*"
   ]
  },
  {
   "cell_type": "markdown",
   "metadata": {},
   "source": [
    "### The contribution of @denis-trofimov.\n",
    "* bump PyTorch version\n",
    "* make utilities quiet, less verbose\n",
    "* unite install commands in one inside some sections"
   ]
  },
  {
   "cell_type": "markdown",
   "metadata": {
    "colab_type": "text",
    "id": "ArPdbxB-vl9Y"
   },
   "source": [
    "## Installing dependencies ##\n",
    "We need to manually install fastai and pytorch. And maybe other things that fastai depends on (see [here](https://github.com/fastai/fastai/blob/master/requirements.txt)).\n",
    "\n",
    "I will be referring to [this fastai forum thread](http://forums.fast.ai/t/colaboratory-and-fastai/10122/6) and [this blogpost](https://towardsdatascience.com/fast-ai-lesson-1-on-google-colab-free-gpu-d2af89f53604) if I get stuck. This is also a handy resource for using pytorch in colab:   https://jovianlin.io/pytorch-with-gpu-in-google-colab/ (and his [example notebook](https://colab.research.google.com/drive/1jxUPzMsAkBboHMQtGyfv5M5c7hU8Ss2c#scrollTo=ed-8FUn2GqQ4)!). And this [post](https://medium.com/@chsafouane/getting-started-with-pytorch-on-google-colab-811c59a656b6)."
   ]
  },
  {
   "cell_type": "code",
   "execution_count": 0,
   "metadata": {
    "colab": {
     "base_uri": "https://localhost:8080/",
     "height": 34
    },
    "colab_type": "code",
    "id": "SY72s-PAwUio",
    "outputId": "e3d43571-122f-48c3-de58-42401dc57b99"
   },
   "outputs": [
    {
     "data": {
      "text/plain": [
       "'3.6.3 (default, Oct  3 2017, 21:45:48) \\n[GCC 7.2.0]'"
      ]
     },
     "execution_count": 4,
     "metadata": {
      "tags": []
     },
     "output_type": "execute_result"
    }
   ],
   "source": [
    "# Check python version\n",
    "import sys\n",
    "sys.version"
   ]
  },
  {
   "cell_type": "code",
   "execution_count": null,
   "metadata": {
    "colab": {},
    "colab_type": "code",
    "id": "zfndtl8SImbL"
   },
   "outputs": [],
   "source": [
    "# Install PyTorch fastai\n",
    "!pip3 install -q http://download.pytorch.org/whl/cu80/torch-0.3.1-cp36-cp36m-linux_x86_64.whl fastai torchvision"
   ]
  },
  {
   "cell_type": "markdown",
   "metadata": {
    "colab_type": "text",
    "id": "MgvJGuuJs_tL"
   },
   "source": [
    "## GPU setup ##\n",
    "Google is very generous and gives access to a GPU for CoLab users. Make sure it's enabled: Edit > Notebook settings > set \"Hardware accelerator\" to GPU.\n",
    "\n",
    "The following is just to assuage your fears that you're being rate-limited or otherwise; you don't need to add these cells to your notebooks to get them to run. Just make sure you've enabled the GPU in the notebook settings. This is easy to forget :)"
   ]
  },
  {
   "cell_type": "markdown",
   "metadata": {
    "colab_type": "text",
    "id": "Xbzp9Z5w1Tcq"
   },
   "source": [
    "### Check that the GPU is available"
   ]
  },
  {
   "cell_type": "code",
   "execution_count": 0,
   "metadata": {
    "colab": {
     "base_uri": "https://localhost:8080/",
     "height": 34
    },
    "colab_type": "code",
    "id": "zt_ux_PqxL2N",
    "outputId": "1d857fc5-a8eb-48b8-bd92-d328ead0578e"
   },
   "outputs": [
    {
     "data": {
      "text/plain": [
       "True"
      ]
     },
     "execution_count": 9,
     "metadata": {
      "tags": []
     },
     "output_type": "execute_result"
    }
   ],
   "source": [
    "import torch\n",
    "torch.cuda.is_available()"
   ]
  },
  {
   "cell_type": "code",
   "execution_count": 0,
   "metadata": {
    "colab": {
     "base_uri": "https://localhost:8080/",
     "height": 34
    },
    "colab_type": "code",
    "id": "tsbpgNqj1YEA",
    "outputId": "fe195c6c-f345-4243-c247-2fefb188ca86"
   },
   "outputs": [
    {
     "data": {
      "text/plain": [
       "True"
      ]
     },
     "execution_count": 10,
     "metadata": {
      "tags": []
     },
     "output_type": "execute_result"
    }
   ],
   "source": [
    "torch.backends.cudnn.enabled"
   ]
  },
  {
   "cell_type": "markdown",
   "metadata": {
    "colab_type": "text",
    "id": "NrbLtmTPHyl0"
   },
   "source": [
    "### Check how much of the GPU is available\n",
    "\n",
    "I'm using the following code from [a stackoverflow thread](https://stackoverflow.com/questions/48750199/google-colaboratory-misleading-information-about-its-gpu-only-5-ram-available\n",
    ") to check what % of the GPU is being utilized right now. 100% is bad; 0% is good (all free for me to use!)."
   ]
  },
  {
   "cell_type": "code",
   "execution_count": null,
   "metadata": {
    "colab": {
     "base_uri": "https://localhost:8080/",
     "height": 459
    },
    "colab_type": "code",
    "id": "tCHMN-qZs5NJ",
    "outputId": "beccc44f-7ebb-47d0-b24c-8e3456d1cdeb"
   },
   "outputs": [],
   "source": [
    "# memory footprint support libraries/code\n",
    "!ln -sf /opt/bin/nvidia-smi /usr/bin/nvidia-smi\n",
    "!pip -q install gputil psutil humanize\n",
    "import psutil\n",
    "import humanize\n",
    "import os\n",
    "import GPUtil as GPU\n",
    "GPUs = GPU.getGPUs()\n",
    "# XXX: only one GPU on Colab and isn’t guaranteed\n",
    "gpu = GPUs[0]\n",
    "def printm():\n",
    " process = psutil.Process(os.getpid())\n",
    " print(\"Gen RAM Free: \" + humanize.naturalsize( psutil.virtual_memory().available ), \" | Proc size: \" + humanize.naturalsize( process.memory_info().rss))\n",
    " print(\"GPU RAM Free: {0:.0f}MB | Used: {1:.0f}MB | Util {2:3.0f}% | Total {3:.0f}MB\".format(gpu.memoryFree, gpu.memoryUsed, gpu.memoryUtil*100, gpu.memoryTotal))\n",
    "printm()"
   ]
  },
  {
   "cell_type": "markdown",
   "metadata": {
    "colab_type": "text",
    "id": "yM4-xQFjOg1s"
   },
   "source": [
    "### Special additions for particular lessons 4, 6"
   ]
  },
  {
   "cell_type": "code",
   "execution_count": 0,
   "metadata": {
    "colab": {},
    "colab_type": "code",
    "id": "Qvl80blDOsp3"
   },
   "outputs": [],
   "source": [
    "!pip3 -q install spacy\n",
    "!python -m spacy download en"
   ]
  },
  {
   "cell_type": "markdown",
   "metadata": {
    "colab_type": "text",
    "id": "sIIDTp5G1Hs2"
   },
   "source": [
    "## Import all the libraries ##"
   ]
  },
  {
   "cell_type": "code",
   "execution_count": 0,
   "metadata": {
    "colab": {},
    "colab_type": "code",
    "id": "szjNuHbH1LPf"
   },
   "outputs": [],
   "source": [
    "# This file contains all the main external libs we'll use\n",
    "from fastai.imports import *"
   ]
  },
  {
   "cell_type": "code",
   "execution_count": 0,
   "metadata": {
    "colab": {},
    "colab_type": "code",
    "id": "akD5dZfY1Fx8"
   },
   "outputs": [],
   "source": [
    "from fastai.transforms import *\n",
    "from fastai.conv_learner import *\n",
    "from fastai.model import *\n",
    "from fastai.dataset import *\n",
    "from fastai.sgdr import *\n",
    "from fastai.plots import *"
   ]
  },
  {
   "cell_type": "markdown",
   "metadata": {
    "colab_type": "text",
    "id": "CMu17eXq3kv-"
   },
   "source": [
    "### Save or load files with Google Drive\n",
    "\n",
    "Run these codes first in order to install the necessary libraries and perform authorization."
   ]
  },
  {
   "cell_type": "code",
   "execution_count": 0,
   "metadata": {
    "colab": {},
    "colab_type": "code",
    "id": "l7_qpLxU2tdM"
   },
   "outputs": [],
   "source": [
    "!apt-get install -y -qq software-properties-common python-software-properties module-init-tools\n",
    "!add-apt-repository -y ppa:alessandro-strada/ppa 2>&1 > /dev/null\n",
    "!apt-get update -qq 2>&1 > /dev/null\n",
    "!apt-get -y install -qq google-drive-ocamlfuse fuse\n",
    "from google.colab import auth\n",
    "auth.authenticate_user()\n",
    "from oauth2client.client import GoogleCredentials\n",
    "creds = GoogleCredentials.get_application_default()\n",
    "import getpass\n",
    "!google-drive-ocamlfuse -headless -id={creds.client_id} -secret={creds.client_secret} < /dev/null 2>&1 | grep URL\n",
    "vcode = getpass.getpass()\n",
    "!echo {vcode} | google-drive-ocamlfuse -headless -id={creds.client_id} -secret={creds.client_secret}"
   ]
  },
  {
   "cell_type": "markdown",
   "metadata": {
    "colab_type": "text",
    "id": "Vunri5y43tP0"
   },
   "source": [
    "Click the link, copy verification code and paste it to text box.\n",
    "\n",
    "After completion of the authorization process,\n",
    "\n",
    "mount your Google Drive:"
   ]
  },
  {
   "cell_type": "code",
   "execution_count": 0,
   "metadata": {
    "colab": {},
    "colab_type": "code",
    "id": "JFRkQ73Y3vLt"
   },
   "outputs": [],
   "source": [
    "!mkdir -p drive\n",
    "!google-drive-ocamlfuse drive"
   ]
  },
  {
   "cell_type": "markdown",
   "metadata": {
    "colab_type": "text",
    "id": "ajpLYwG5tnh0"
   },
   "source": [
    "## Cloning the fastai git repo ##\n",
    "You likely don't actually need to do this, but if you want direct access to the .xls files, or want to inspect or fork their code... clone the fastai repository!"
   ]
  },
  {
   "cell_type": "code",
   "execution_count": 0,
   "metadata": {
    "colab": {
     "base_uri": "https://localhost:8080/",
     "height": 102
    },
    "colab_type": "code",
    "id": "5znH0gMds-Ek",
    "outputId": "20cd0e2a-f840-4e21-94b0-501530e5591d"
   },
   "outputs": [
    {
     "name": "stdout",
     "output_type": "stream",
     "text": [
      "Cloning into 'courses'...\n",
      "remote: Counting objects: 765, done.\u001b[K\n",
      "remote: Total 765 (delta 0), reused 0 (delta 0), pack-reused 765\u001b[K\n",
      "Receiving objects: 100% (765/765), 22.40 MiB | 41.70 MiB/s, done.\n",
      "Resolving deltas: 100% (409/409), done.\n"
     ]
    }
   ],
   "source": [
    "!git clone https://github.com/fastai/courses.git"
   ]
  },
  {
   "cell_type": "code",
   "execution_count": 0,
   "metadata": {
    "colab": {
     "base_uri": "https://localhost:8080/",
     "height": 34
    },
    "colab_type": "code",
    "id": "ErAMoiyKvPGS",
    "outputId": "f972b1f1-3576-4db8-b8bb-c64cb23c97d2"
   },
   "outputs": [
    {
     "name": "stdout",
     "output_type": "stream",
     "text": [
      "/content\r\n"
     ]
    }
   ],
   "source": [
    "!pwd"
   ]
  },
  {
   "cell_type": "code",
   "execution_count": 0,
   "metadata": {
    "colab": {
     "base_uri": "https://localhost:8080/",
     "height": 34
    },
    "colab_type": "code",
    "id": "VpSnZpJsvSBy",
    "outputId": "05160013-2a66-4e6e-9f87-f07ec1664e61"
   },
   "outputs": [
    {
     "name": "stdout",
     "output_type": "stream",
     "text": [
      "deeplearning1  deeplearning2  LICENSE.txt  README.md  requirements.txt\tsetup\r\n"
     ]
    }
   ],
   "source": [
    "!ls courses"
   ]
  },
  {
   "cell_type": "code",
   "execution_count": 0,
   "metadata": {
    "colab": {
     "base_uri": "https://localhost:8080/",
     "height": 34
    },
    "colab_type": "code",
    "id": "breQBLV1vUjd",
    "outputId": "a457fbce-987d-416e-ebb1-0bf857db9002"
   },
   "outputs": [
    {
     "name": "stdout",
     "output_type": "stream",
     "text": [
      "excel  nbs\r\n"
     ]
    }
   ],
   "source": [
    "!ls courses/deeplearning1"
   ]
  },
  {
   "cell_type": "code",
   "execution_count": 0,
   "metadata": {
    "colab": {
     "base_uri": "https://localhost:8080/",
     "height": 51
    },
    "colab_type": "code",
    "id": "KvaQJvs-vX1G",
    "outputId": "2ad8cae7-6875-47f0-acb5-2a70f7b404f5"
   },
   "outputs": [
    {
     "name": "stdout",
     "output_type": "stream",
     "text": [
      "collab_filter.xlsx  entropy_example.xlsx  layers_example.xlsx\r\n",
      "conv-example.xlsx   graddesc.xlsm\r\n"
     ]
    }
   ],
   "source": [
    "!ls courses/deeplearning1/excel"
   ]
  },
  {
   "cell_type": "markdown",
   "metadata": {
    "colab_type": "text",
    "id": "jLYN0MSazvEs"
   },
   "source": [
    "## Accessing the fastai data files (lessons 1, 3, 4) ##\n",
    "If you get a fastai URL to a .zip or .tgz - follow these directions to import the data into your notebook.\n",
    "\n",
    "Here's the snippet from Lesson 1: *The dataset is available at http://files.fast.ai/data/dogscats.zip. You can download it directly on your server by running the following line in your terminal. wget http://files.fast.ai/data/dogscats.zip. You should put the data in a subdirectory of this notebook's directory, called data/. Note that this data is already available in Crestle and the Paperspace fast.ai template.*"
   ]
  },
  {
   "cell_type": "markdown",
   "metadata": {
    "colab_type": "text",
    "id": "zsjGwMYbKOnv"
   },
   "source": [
    "### If it's a .zip file (lesson 1):"
   ]
  },
  {
   "cell_type": "markdown",
   "metadata": {
    "colab_type": "text",
    "id": "hWAzRDI2OChd"
   },
   "source": [
    "#### Lesson 1: Dogs & Cats data"
   ]
  },
  {
   "cell_type": "code",
   "execution_count": 0,
   "metadata": {
    "colab": {},
    "colab_type": "code",
    "id": "lrmNSfsjz1Kw"
   },
   "outputs": [],
   "source": [
    "# Get the file from fast.ai URL, unzip it, and put it into the folder 'data'\n",
    "# -q to make the unzipping less verbose.\n",
    "!mkdir -p data\n",
    "!wget -q http://files.fast.ai/data/dogscats.zip && unzip -qq dogscats.zip -d data/"
   ]
  },
  {
   "cell_type": "code",
   "execution_count": 0,
   "metadata": {
    "colab": {
     "base_uri": "https://localhost:8080/",
     "height": 34
    },
    "colab_type": "code",
    "id": "Yke4ZiW30Lme",
    "outputId": "29cc8309-e0d4-4f3b-f0fb-9a4b5e3dab5a"
   },
   "outputs": [
    {
     "name": "stdout",
     "output_type": "stream",
     "text": [
      "data  datalab  dogscats.zip\r\n"
     ]
    }
   ],
   "source": [
    "# Check to make sure the data is where you think it is:\n",
    "!ls"
   ]
  },
  {
   "cell_type": "code",
   "execution_count": 0,
   "metadata": {
    "colab": {
     "base_uri": "https://localhost:8080/",
     "height": 34
    },
    "colab_type": "code",
    "id": "niEYffpt7vWx",
    "outputId": "e62d9ada-778a-4a1c-a10f-55781a9727d5"
   },
   "outputs": [
    {
     "name": "stdout",
     "output_type": "stream",
     "text": [
      "models\tsample\ttest1  train  valid\r\n"
     ]
    }
   ],
   "source": [
    "# Check to make sure the folders all unzipped properly:\n",
    "!ls data/dogscats"
   ]
  },
  {
   "cell_type": "markdown",
   "metadata": {
    "colab_type": "text",
    "id": "8QZZcpKMKRNr"
   },
   "source": [
    "### If it's a .tgz file (lesson 3 & 4):"
   ]
  },
  {
   "cell_type": "markdown",
   "metadata": {
    "colab_type": "text",
    "id": "k0g74wueNNFz"
   },
   "source": [
    "#### Lesson 3: Rossmann data"
   ]
  },
  {
   "cell_type": "code",
   "execution_count": null,
   "metadata": {
    "colab": {
     "base_uri": "https://localhost:8080/",
     "height": 204
    },
    "colab_type": "code",
    "id": "OicNnAQbNPCO",
    "outputId": "eebb0853-55cf-49e0-d399-8a6e0b27165e"
   },
   "outputs": [],
   "source": [
    "# Get the Rossmann data from the fast.ai URL, and make a nested directory to put it in later. \n",
    "# -p flag from mkdir is to make a parent directory (allows nested directories to be created at once)\n",
    "!wget -q http://files.fast.ai/part2/lesson14/rossmann.tgz && mkdir -p ~/data/rossmann"
   ]
  },
  {
   "cell_type": "code",
   "execution_count": 0,
   "metadata": {
    "colab": {},
    "colab_type": "code",
    "id": "yGJbvBTDNTmW"
   },
   "outputs": [],
   "source": [
    "# Unzip the .tgz file\n",
    "# x for extract\n",
    "# -v for verbose    # NOTE: I usually turn this off; it prints a lot...\n",
    "# -z for gnuzip\n",
    "# -f for file (should come at last just before file name)\n",
    "# -C to extract the zipped contents to a different directory\n",
    "!tar -xzf rossmann.tgz -C ~/data/rossmann/"
   ]
  },
  {
   "cell_type": "code",
   "execution_count": 0,
   "metadata": {
    "colab": {},
    "colab_type": "code",
    "id": "jI91qUCQNdLm"
   },
   "outputs": [],
   "source": [
    "# Remove the .tgz file\n",
    "!rm rossmann.tgz"
   ]
  },
  {
   "cell_type": "code",
   "execution_count": 0,
   "metadata": {
    "colab": {
     "base_uri": "https://localhost:8080/",
     "height": 51
    },
    "colab_type": "code",
    "id": "mDAMGkyKNg4-",
    "outputId": "72d97c43-b759-4880-c279-a3d237994dfd"
   },
   "outputs": [
    {
     "name": "stdout",
     "output_type": "stream",
     "text": [
      "googletrend.csv        state_names.csv\tstore_states.csv  train.csv\r\n",
      "sample_submission.csv  store.csv\ttest.csv\t  weather.csv\r\n"
     ]
    }
   ],
   "source": [
    "# Make sure the data's where we think it is:\n",
    "!ls ~/data/rossmann"
   ]
  },
  {
   "cell_type": "markdown",
   "metadata": {
    "colab_type": "text",
    "id": "g5rsx0oDNKta"
   },
   "source": [
    "#### Lesson 4: IMDB data"
   ]
  },
  {
   "cell_type": "code",
   "execution_count": null,
   "metadata": {
    "colab": {
     "base_uri": "https://localhost:8080/",
     "height": 204
    },
    "colab_type": "code",
    "id": "bIpVv43OKS_d",
    "outputId": "3ef06490-1a15-4a28-b364-4a51f2fe07ad"
   },
   "outputs": [],
   "source": [
    "# Get the IMDB data from the fastai URL: \n",
    "!wget -q http://files.fast.ai/data/aclImdb.tgz"
   ]
  },
  {
   "cell_type": "code",
   "execution_count": 0,
   "metadata": {
    "colab": {
     "base_uri": "https://localhost:8080/",
     "height": 34
    },
    "colab_type": "code",
    "id": "LO4douK5KWLb",
    "outputId": "93640391-119a-464c-c9a4-54dbb74d8d4a"
   },
   "outputs": [
    {
     "name": "stdout",
     "output_type": "stream",
     "text": [
      "aclImdb.tgz  data  datalab  dogscats.zip\r\n"
     ]
    }
   ],
   "source": [
    "# Make sure it imported properly:\n",
    "!ls"
   ]
  },
  {
   "cell_type": "code",
   "execution_count": 0,
   "metadata": {
    "colab": {},
    "colab_type": "code",
    "id": "_jJfYk3gMFQt"
   },
   "outputs": [],
   "source": [
    "# Unzip the tgz file\n",
    "# x for extract\n",
    "# -v for verbose    # NOTE: I usually turn this off; it prints a lot...\n",
    "# -z for gnuzip\n",
    "# -f for file (should come at last just before file name)\n",
    "# -C to extract the zipped contents to a different directory\n",
    "!tar -xzf aclImdb.tgz -C data/"
   ]
  },
  {
   "cell_type": "code",
   "execution_count": 0,
   "metadata": {
    "colab": {},
    "colab_type": "code",
    "id": "zZQOmJVZMIjN"
   },
   "outputs": [],
   "source": [
    "# Remove the original .tgz file\n",
    "!rm aclImdb.tgz"
   ]
  },
  {
   "cell_type": "code",
   "execution_count": 0,
   "metadata": {
    "colab": {
     "base_uri": "https://localhost:8080/",
     "height": 34
    },
    "colab_type": "code",
    "id": "S-zjoTLkMJ-9",
    "outputId": "3b6febf8-0b21-4285-d09d-ab15349c4a26"
   },
   "outputs": [
    {
     "name": "stdout",
     "output_type": "stream",
     "text": [
      "imdbEr.txt  imdb.vocab\tREADME\ttest  train\r\n"
     ]
    }
   ],
   "source": [
    "# Make sure the data is where we think it is:\n",
    "!ls data/aclImdb"
   ]
  },
  {
   "cell_type": "markdown",
   "metadata": {
    "colab_type": "text",
    "id": "1NXgEO6_u8pr"
   },
   "source": [
    "## Getting data from Kaggle, using the Kaggle API (lesson 2)"
   ]
  },
  {
   "cell_type": "markdown",
   "metadata": {
    "colab_type": "text",
    "id": "oWuViRU3JCJi"
   },
   "source": [
    "Install the Kaggle API; authenticate; and then use the Kaggle command line interface to access data."
   ]
  },
  {
   "cell_type": "code",
   "execution_count": 0,
   "metadata": {
    "colab": {},
    "colab_type": "code",
    "id": "1O17nYxGvAP0"
   },
   "outputs": [],
   "source": [
    "# Install the Kaggle API\n",
    "!pip3 -q install kaggle"
   ]
  },
  {
   "cell_type": "code",
   "execution_count": 0,
   "metadata": {
    "colab": {},
    "colab_type": "code",
    "id": "aBlnbQ-wJNCY"
   },
   "outputs": [],
   "source": [
    "# Import kaggle.json from Google Drive\n",
    "# This snippet will output a link which needs authentication from any Google account\n",
    "\n",
    "from googleapiclient.discovery import build\n",
    "import io, os\n",
    "from googleapiclient.http import MediaIoBaseDownload\n",
    "from google.colab import auth\n",
    "\n",
    "auth.authenticate_user()\n",
    "\n",
    "drive_service = build('drive', 'v3')\n",
    "results = drive_service.files().list(\n",
    "        q=\"name = 'kaggle.json'\", fields=\"files(id)\").execute()\n",
    "kaggle_api_key = results.get('files', [])\n",
    "\n",
    "filename = \"/content/.kaggle/kaggle.json\"\n",
    "os.makedirs(os.path.dirname(filename), exist_ok=True)\n",
    "\n",
    "request = drive_service.files().get_media(fileId=kaggle_api_key[0]['id'])\n",
    "fh = io.FileIO(filename, 'wb')\n",
    "downloader = MediaIoBaseDownload(fh, request)\n",
    "done = False\n",
    "while done is False:\n",
    "    status, done = downloader.next_chunk()\n",
    "    print(\"Download %d%%.\" % int(status.progress() * 100))\n",
    "os.chmod(filename, 600)"
   ]
  },
  {
   "cell_type": "markdown",
   "metadata": {
    "colab_type": "text",
    "id": "_xNKTHPMJRb5"
   },
   "source": [
    "**Now we have the Kaggle API set up!**\n",
    "\n",
    "Here are a few examples of what we can do now, using the Kaggle API:\n",
    "\n",
    "```\n",
    "!kaggle competitions list\n",
    "!kaggle datasets download -d stanfordu/street-view-house-numbers -w -f street-view-house-numbers.zip\n",
    "```\n",
    "More documentation on the Kaggle API here: https://github.com/Kaggle/kaggle-api"
   ]
  },
  {
   "cell_type": "markdown",
   "metadata": {
    "colab_type": "text",
    "id": "8w2pvt26J6al"
   },
   "source": [
    "**Typical workflow:**\n",
    "\n",
    "Download the zip file of a dataset:\n",
    "```\n",
    "!kaggle datasets download -d \n",
    "```\n",
    "And then unzip the file and move to a directory:\n",
    "```\n",
    "!unzip street-view-house-numbers.zip \n",
    "```\n",
    "Check to make sure it's there:\n",
    "```\n",
    "!ls\n",
    "```\n",
    "\n",
    "*This post was helpful for this lesson 2 data in particular: http://forums.fast.ai/t/how-to-download-data-for-lesson-2-from-kaggle-for-planet-competition/7684/38*"
   ]
  },
  {
   "cell_type": "code",
   "execution_count": 0,
   "metadata": {
    "colab": {},
    "colab_type": "code",
    "id": "MmOWEDwrJZEz"
   },
   "outputs": [],
   "source": [
    "# List the files for the Planet data\n",
    "!kaggle competitions files -c planet-understanding-the-amazon-from-space"
   ]
  },
  {
   "cell_type": "code",
   "execution_count": 0,
   "metadata": {
    "colab": {},
    "colab_type": "code",
    "id": "7hK484tkJc2v"
   },
   "outputs": [],
   "source": [
    "# -c: competition name\n",
    "# -f: which file you want to download\n",
    "# -p: path to where the file should be saved\n",
    "!kaggle competitions download -c planet-understanding-the-amazon-from-space -f train-jpg.tar.7z -p ~/data/planet/\n",
    "!kaggle competitions download -c planet-understanding-the-amazon-from-space -f test-jpg.tar.7z -p ~/data/planet/\n",
    "!kaggle competitions download -c planet-understanding-the-amazon-from-space -f train_v2.csv.zip -p ~/data/planet/"
   ]
  },
  {
   "cell_type": "code",
   "execution_count": 0,
   "metadata": {
    "colab": {},
    "colab_type": "code",
    "id": "aFk17TwJJhah"
   },
   "outputs": [],
   "source": [
    "# Make sure the data is where you think it is:\n",
    "!ls ~/data/planet"
   ]
  },
  {
   "cell_type": "code",
   "execution_count": 0,
   "metadata": {
    "colab": {},
    "colab_type": "code",
    "id": "cjA-tPL-Jj6L"
   },
   "outputs": [],
   "source": [
    "# In order to unzip the 7z files, need to install p7zip\n",
    "# This was helpful: http://forums.fast.ai/t/unzipping-tar-7z-files-in-google-collab-notebook/14857/4\n",
    "!apt-get -qq install p7zip-full"
   ]
  },
  {
   "cell_type": "code",
   "execution_count": 0,
   "metadata": {
    "colab": {},
    "colab_type": "code",
    "id": "cpamNgF-Jnmh"
   },
   "outputs": [],
   "source": [
    "# Unzip the 7zip files\n",
    "# -d: which file to un7zip\n",
    "!p7zip -d ~/data/planet/test-jpg.tar.7z \n",
    "!p7zip -d ~/data/planet/train-jpg.tar.7z "
   ]
  },
  {
   "cell_type": "code",
   "execution_count": 0,
   "metadata": {
    "colab": {},
    "colab_type": "code",
    "id": "eS08MzjLVS0F"
   },
   "outputs": [],
   "source": [
    "# Unzip the .tar files\n",
    "!tar -xf ~/data/planet/test-jpg.tar\n",
    "!tar -xf ~/data/planet/train-jpg.tar"
   ]
  },
  {
   "cell_type": "code",
   "execution_count": 0,
   "metadata": {
    "colab": {},
    "colab_type": "code",
    "id": "CSQ8v4KFVbjN"
   },
   "outputs": [],
   "source": [
    "# Move the unzipped folders into data/planet/\n",
    "!mv test-jpg ~/data/planet/ && mv train-jpg ~/data/planet/"
   ]
  },
  {
   "cell_type": "code",
   "execution_count": 0,
   "metadata": {
    "colab": {},
    "colab_type": "code",
    "id": "qVH_9dNHVdeR"
   },
   "outputs": [],
   "source": [
    "# Unzip the regular file\n",
    "!unzip -qq ~/data/planet/train_v2.csv.zip -d ~/data/planet/"
   ]
  },
  {
   "cell_type": "code",
   "execution_count": 0,
   "metadata": {
    "colab": {},
    "colab_type": "code",
    "id": "XqIuhb3EVeBk"
   },
   "outputs": [],
   "source": [
    "# Make sure everything looks as it should:\n",
    "!ls ~/data/planet/"
   ]
  },
  {
   "cell_type": "markdown",
   "metadata": {
    "colab_type": "text",
    "id": "inVvQHTN74ph"
   },
   "source": [
    "## Now we're ready to go! ##"
   ]
  }
 ],
 "metadata": {
  "accelerator": "GPU",
  "colab": {
   "collapsed_sections": [],
   "name": "fc Using_Google_Colab_for_Fastai.ipynb",
   "provenance": [
    {
     "file_id": "https://github.com/denis-trofimov/fastai_in_colab/blob/master/Using_Google_Colab_for_Fastai.ipynb",
     "timestamp": 1535919405809
    }
   ],
   "version": "0.3.2"
  },
  "kernelspec": {
   "display_name": "Python 3",
   "language": "python",
   "name": "python3"
  },
  "language_info": {
   "codemirror_mode": {
    "name": "ipython",
    "version": 3
   },
   "file_extension": ".py",
   "mimetype": "text/x-python",
   "name": "python",
   "nbconvert_exporter": "python",
   "pygments_lexer": "ipython3",
   "version": "3.6.5"
  }
 },
 "nbformat": 4,
 "nbformat_minor": 1
}
