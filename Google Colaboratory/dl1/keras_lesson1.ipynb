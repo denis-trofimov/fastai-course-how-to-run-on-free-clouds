{
 "cells": [
  {
   "cell_type": "markdown",
   "metadata": {
    "colab_type": "text",
    "id": "yiU06Qen_6IE"
   },
   "source": [
    "## Introduction to our first task: 'Dogs vs Cats'"
   ]
  },
  {
   "cell_type": "code",
   "execution_count": 0,
   "metadata": {
    "colab": {},
    "colab_type": "code",
    "id": "NNK1rBbe_6IG"
   },
   "outputs": [],
   "source": [
    "# Safe for Colab\n",
    "%matplotlib inline"
   ]
  },
  {
   "cell_type": "markdown",
   "metadata": {
    "colab_type": "text",
    "id": "Uq1MpDL_IorH"
   },
   "source": [
    "The dataset is available at http://files.fast.ai/data/dogscats.zip. You can download it directly on your server by running the following line in your terminal. `wget http://files.fast.ai/data/dogscats.zip`. You should put the data in a subdirectory of this notebook's directory, called `data/`. Note that this data is already available in Crestle and the Paperspace fast.ai template."
   ]
  },
  {
   "cell_type": "code",
   "execution_count": 0,
   "metadata": {
    "colab": {},
    "colab_type": "code",
    "id": "JZ9WfOkQSUKg"
   },
   "outputs": [],
   "source": [
    "# The dataset is available at http://files.fast.ai/data/dogscats.zip.\n",
    "!mkdir -p data\n",
    "!wget -q http://files.fast.ai/data/dogscats.zip\n",
    "!unzip -q dogscats.zip -d data/"
   ]
  },
  {
   "cell_type": "code",
   "execution_count": 0,
   "metadata": {
    "colab": {},
    "colab_type": "code",
    "id": "XMOZnLpd_6IN"
   },
   "outputs": [],
   "source": [
    "PATH = \"data/dogscats/\"\n",
    "sz=224\n",
    "batch_size=64"
   ]
  },
  {
   "cell_type": "code",
   "execution_count": 4,
   "metadata": {
    "colab": {
     "base_uri": "https://localhost:8080/",
     "height": 35
    },
    "colab_type": "code",
    "executionInfo": {
     "elapsed": 1929,
     "status": "ok",
     "timestamp": 1535870854456,
     "user": {
      "displayName": "Denis Trofimov",
      "photoUrl": "//lh4.googleusercontent.com/-5mI1PahJKgY/AAAAAAAAAAI/AAAAAAAApTs/jE-MakZklpc/s50-c-k-no/photo.jpg",
      "userId": "118344610648363214086"
     },
     "user_tz": -180
    },
    "id": "Sbj9J_Pq_6IR",
    "outputId": "bd55aaed-4b2a-4378-955d-e496c8aca391"
   },
   "outputs": [
    {
     "name": "stderr",
     "output_type": "stream",
     "text": [
      "Using TensorFlow backend.\n"
     ]
    }
   ],
   "source": [
    "import numpy as np\n",
    "from keras.preprocessing.image import ImageDataGenerator\n",
    "from keras.preprocessing import image\n",
    "from keras.layers import Dropout, Flatten, Dense\n",
    "from keras.applications import ResNet50\n",
    "from keras.models import Model, Sequential\n",
    "from keras.layers import Dense, GlobalAveragePooling2D\n",
    "from keras import backend as K\n",
    "from keras.applications.resnet50 import preprocess_input"
   ]
  },
  {
   "cell_type": "code",
   "execution_count": 0,
   "metadata": {
    "colab": {},
    "colab_type": "code",
    "id": "KVeXY10I_6Ib"
   },
   "outputs": [],
   "source": [
    "train_data_dir = f'{PATH}train'\n",
    "validation_data_dir = f'{PATH}valid'"
   ]
  },
  {
   "cell_type": "code",
   "execution_count": 6,
   "metadata": {
    "colab": {
     "base_uri": "https://localhost:8080/",
     "height": 53
    },
    "colab_type": "code",
    "executionInfo": {
     "elapsed": 3001,
     "status": "ok",
     "timestamp": 1535870867923,
     "user": {
      "displayName": "Denis Trofimov",
      "photoUrl": "//lh4.googleusercontent.com/-5mI1PahJKgY/AAAAAAAAAAI/AAAAAAAApTs/jE-MakZklpc/s50-c-k-no/photo.jpg",
      "userId": "118344610648363214086"
     },
     "user_tz": -180
    },
    "id": "ZyVd0hay_6Ig",
    "outputId": "2ff690b9-0289-48f2-8a13-af5d8472194b"
   },
   "outputs": [
    {
     "name": "stdout",
     "output_type": "stream",
     "text": [
      "Found 23000 images belonging to 2 classes.\n",
      "Found 2000 images belonging to 2 classes.\n"
     ]
    }
   ],
   "source": [
    "train_datagen = ImageDataGenerator(preprocessing_function=preprocess_input,\n",
    "    shear_range=0.2, zoom_range=0.2, horizontal_flip=True)\n",
    "\n",
    "test_datagen = ImageDataGenerator(preprocessing_function=preprocess_input)\n",
    "\n",
    "train_generator = train_datagen.flow_from_directory(train_data_dir,\n",
    "    target_size=(sz, sz),\n",
    "    batch_size=batch_size, class_mode='binary')\n",
    "\n",
    "validation_generator = test_datagen.flow_from_directory(validation_data_dir,\n",
    "    shuffle=False,\n",
    "    target_size=(sz, sz),\n",
    "    batch_size=batch_size, class_mode='binary')"
   ]
  },
  {
   "cell_type": "code",
   "execution_count": 7,
   "metadata": {
    "colab": {
     "base_uri": "https://localhost:8080/",
     "height": 53
    },
    "colab_type": "code",
    "executionInfo": {
     "elapsed": 27814,
     "status": "ok",
     "timestamp": 1535870895762,
     "user": {
      "displayName": "Denis Trofimov",
      "photoUrl": "//lh4.googleusercontent.com/-5mI1PahJKgY/AAAAAAAAAAI/AAAAAAAApTs/jE-MakZklpc/s50-c-k-no/photo.jpg",
      "userId": "118344610648363214086"
     },
     "user_tz": -180
    },
    "id": "njfTuj5b_6In",
    "outputId": "c90e9bdd-4209-4411-d427-e66b7986c736"
   },
   "outputs": [
    {
     "name": "stdout",
     "output_type": "stream",
     "text": [
      "Downloading data from https://github.com/fchollet/deep-learning-models/releases/download/v0.2/resnet50_weights_tf_dim_ordering_tf_kernels_notop.h5\n",
      "94658560/94653016 [==============================] - 15s 0us/step\n"
     ]
    }
   ],
   "source": [
    "base_model = ResNet50(weights='imagenet', include_top=False)\n",
    "x = base_model.output\n",
    "x = GlobalAveragePooling2D()(x)\n",
    "x = Dense(1024, activation='relu')(x)\n",
    "predictions = Dense(1, activation='sigmoid')(x)"
   ]
  },
  {
   "cell_type": "code",
   "execution_count": 0,
   "metadata": {
    "colab": {},
    "colab_type": "code",
    "id": "EfS9fyEd_6Is"
   },
   "outputs": [],
   "source": [
    "model = Model(inputs=base_model.input, outputs=predictions)\n",
    "for layer in base_model.layers: layer.trainable = False\n",
    "model.compile(optimizer='rmsprop', loss='binary_crossentropy', metrics=['accuracy'])"
   ]
  },
  {
   "cell_type": "code",
   "execution_count": 9,
   "metadata": {
    "colab": {
     "base_uri": "https://localhost:8080/",
     "height": 179
    },
    "colab_type": "code",
    "executionInfo": {
     "elapsed": 1028651,
     "status": "ok",
     "timestamp": 1535871925691,
     "user": {
      "displayName": "Denis Trofimov",
      "photoUrl": "//lh4.googleusercontent.com/-5mI1PahJKgY/AAAAAAAAAAI/AAAAAAAApTs/jE-MakZklpc/s50-c-k-no/photo.jpg",
      "userId": "118344610648363214086"
     },
     "user_tz": -180
    },
    "id": "egDTpS3Y_6Iz",
    "outputId": "36df75fe-00e7-4195-9c9d-9571c33dbccc"
   },
   "outputs": [
    {
     "name": "stdout",
     "output_type": "stream",
     "text": [
      "Epoch 1/3\n",
      "359/359 [==============================] - 347s 967ms/step - loss: 0.2238 - acc: 0.9469 - val_loss: 0.2192 - val_acc: 0.9496\n",
      "Epoch 2/3\n",
      "359/359 [==============================] - 340s 948ms/step - loss: 0.0887 - acc: 0.9689 - val_loss: 0.0566 - val_acc: 0.9864\n",
      "Epoch 3/3\n",
      "359/359 [==============================] - 340s 947ms/step - loss: 0.0685 - acc: 0.9757 - val_loss: 0.1777 - val_acc: 0.9632\n",
      "CPU times: user 31min 17s, sys: 1min 12s, total: 32min 29s\n",
      "Wall time: 17min 7s\n"
     ]
    },
    {
     "data": {
      "text/plain": [
       "<keras.callbacks.History at 0x7fb28d0735c0>"
      ]
     },
     "execution_count": 9,
     "metadata": {
      "tags": []
     },
     "output_type": "execute_result"
    }
   ],
   "source": [
    "%%time\n",
    "model.fit_generator(train_generator, train_generator.n // batch_size, epochs=3, workers=4,\n",
    "        validation_data=validation_generator, validation_steps=validation_generator.n // batch_size)"
   ]
  },
  {
   "cell_type": "code",
   "execution_count": 0,
   "metadata": {
    "colab": {},
    "colab_type": "code",
    "id": "HygpNXMw_6I6"
   },
   "outputs": [],
   "source": [
    "split_at = 140\n",
    "for layer in model.layers[:split_at]: layer.trainable = False\n",
    "for layer in model.layers[split_at:]: layer.trainable = True\n",
    "model.compile(optimizer='rmsprop', loss='binary_crossentropy', metrics=['accuracy'])    "
   ]
  },
  {
   "cell_type": "code",
   "execution_count": 11,
   "metadata": {
    "colab": {
     "base_uri": "https://localhost:8080/",
     "height": 107
    },
    "colab_type": "code",
    "executionInfo": {
     "elapsed": 368429,
     "status": "ok",
     "timestamp": 1535872295870,
     "user": {
      "displayName": "Denis Trofimov",
      "photoUrl": "//lh4.googleusercontent.com/-5mI1PahJKgY/AAAAAAAAAAI/AAAAAAAApTs/jE-MakZklpc/s50-c-k-no/photo.jpg",
      "userId": "118344610648363214086"
     },
     "user_tz": -180
    },
    "id": "-sV4yz-x_6JC",
    "outputId": "4c3f9047-4979-4e5e-fcb0-aae3ea631144"
   },
   "outputs": [
    {
     "name": "stdout",
     "output_type": "stream",
     "text": [
      "Epoch 1/1\n",
      "359/359 [==============================] - 366s 1s/step - loss: 0.0778 - acc: 0.9744 - val_loss: 7.6045 - val_acc: 0.5222\n",
      "CPU times: user 11min 1s, sys: 35.4 s, total: 11min 36s\n",
      "Wall time: 6min 7s\n"
     ]
    },
    {
     "data": {
      "text/plain": [
       "<keras.callbacks.History at 0x7fb212eb3f98>"
      ]
     },
     "execution_count": 11,
     "metadata": {
      "tags": []
     },
     "output_type": "execute_result"
    }
   ],
   "source": [
    "%%time\n",
    "model.fit_generator(train_generator, train_generator.n // batch_size, epochs=1, workers=3,\n",
    "        validation_data=validation_generator, validation_steps=validation_generator.n // batch_size)"
   ]
  },
  {
   "cell_type": "code",
   "execution_count": 0,
   "metadata": {
    "colab": {},
    "colab_type": "code",
    "id": "YeCvkxIu_6JK"
   },
   "outputs": [],
   "source": []
  }
 ],
 "metadata": {
  "accelerator": "GPU",
  "colab": {
   "name": "Copy of keras_lesson1.ipynb",
   "provenance": [
    {
     "file_id": "1Ypmzt5eTbUyP_IgptJDFEg_ewlHwEh38",
     "timestamp": 1535870712795
    }
   ],
   "version": "0.3.2"
  },
  "kernelspec": {
   "display_name": "Python 3",
   "language": "python",
   "name": "python3"
  },
  "language_info": {
   "codemirror_mode": {
    "name": "ipython",
    "version": 3
   },
   "file_extension": ".py",
   "mimetype": "text/x-python",
   "name": "python",
   "nbconvert_exporter": "python",
   "pygments_lexer": "ipython3",
   "version": "3.6.5"
  }
 },
 "nbformat": 4,
 "nbformat_minor": 1
}
